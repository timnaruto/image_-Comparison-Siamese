{
 "cells": [
  {
   "cell_type": "markdown",
   "metadata": {},
   "source": [
    "## This project we are going to use triple loss effect to make sure our model knows similariry between two images. One will be positive, negative and then anchor image "
   ]
  },
  {
   "cell_type": "code",
   "execution_count": 2,
   "metadata": {},
   "outputs": [],
   "source": [
    "## Imports \n",
    "import matplotlib.pyplot as plt\n",
    "import numpy as np\n",
    "import os\n",
    "import random\n",
    "import tensorflow as tf\n",
    "from pathlib import Path\n",
    "from keras import applications\n",
    "from keras import layers\n",
    "from keras import losses\n",
    "from keras import ops\n",
    "from keras import optimizers\n",
    "from keras import metrics\n",
    "from keras import Model\n",
    "from keras.applications import resnet\n",
    "\n",
    "\n",
    "target_shape = (200, 200)"
   ]
  },
  {
   "cell_type": "markdown",
   "metadata": {},
   "source": [
    "### Load the dataset\n",
    "* We are going to load the Totally Looks Like dataset and unzip it inside the ~/.keras directory in the local environment.\n",
    "    - left.zip contains the images that we will use as the anchor.\n",
    "    - right.zip contains the images that we will use as the positive sample (an image that looks like the anchor)."
   ]
  },
  {
   "cell_type": "code",
   "execution_count": null,
   "metadata": {},
   "outputs": [],
   "source": [
    "# Define cache directory inside ~/.keras\n",
    "cache_dir = Path.home() / \".keras\"\n",
    "cache_dir.mkdir(parents=True, exist_ok=True)\n"
   ]
  },
  {
   "cell_type": "code",
   "execution_count": null,
   "metadata": {},
   "outputs": [],
   "source": [
    "import gdown\n",
    "from pathlib import Path\n",
    "import zipfile\n",
    "\n",
    "# Set up directories\n",
    "cache_dir = Path.home() / \".keras\"\n",
    "anchor_images_path, positive_images_path = cache_dir / \"left\", cache_dir / \"right\"\n",
    "anchor_images_path.mkdir(parents=True, exist_ok=True)\n",
    "positive_images_path.mkdir(parents=True, exist_ok=True)\n",
    "\n",
    "# Download and extract\n",
    "for file_id, path in [(\"1jvkbTr_giSP3Ru8OwGNCg6B4PvVbcO34\", cache_dir / \"left.zip\"),\n",
    "                      (\"1EzBZUb_mh_Dp_FKD0P4XiYYSd0QBH5zW\", cache_dir / \"right.zip\")]:\n",
    "    gdown.download(f\"https://drive.google.com/uc?id={file_id}\", str(path), quiet=False)\n",
    "    with zipfile.ZipFile(path, \"r\") as z: z.extractall(path.parent / path.stem)\n",
    "\n",
    "print(f\"Files extracted to:\\n - {anchor_images_path}\\n - {positive_images_path}\")\n"
   ]
  }
 ],
 "metadata": {
  "kernelspec": {
   "display_name": "base",
   "language": "python",
   "name": "python3"
  },
  "language_info": {
   "codemirror_mode": {
    "name": "ipython",
    "version": 3
   },
   "file_extension": ".py",
   "mimetype": "text/x-python",
   "name": "python",
   "nbconvert_exporter": "python",
   "pygments_lexer": "ipython3",
   "version": "3.12.4"
  }
 },
 "nbformat": 4,
 "nbformat_minor": 2
}
